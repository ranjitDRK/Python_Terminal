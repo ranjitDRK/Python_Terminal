{
  "nbformat": 4,
  "nbformat_minor": 0,
  "metadata": {
    "colab": {
      "name": "Adv Python",
      "provenance": [],
      "authorship_tag": "ABX9TyOhgvuvx9s6P1I0c1sZtft5",
      "include_colab_link": true
    },
    "kernelspec": {
      "name": "python3",
      "display_name": "Python 3"
    },
    "language_info": {
      "name": "python"
    }
  },
  "cells": [
    {
      "cell_type": "markdown",
      "metadata": {
        "id": "view-in-github",
        "colab_type": "text"
      },
      "source": [
        "<a href=\"https://colab.research.google.com/github/ranjitDRK/Python_Terminal/blob/main/Adv_Python.ipynb\" target=\"_parent\"><img src=\"https://colab.research.google.com/assets/colab-badge.svg\" alt=\"Open In Colab\"/></a>"
      ]
    },
    {
      "cell_type": "code",
      "execution_count": null,
      "metadata": {
        "colab": {
          "base_uri": "https://localhost:8080/"
        },
        "id": "dSkkoQj9o9Tp",
        "outputId": "49eb14e9-1e1c-48c2-99a0-398fafa49f58"
      },
      "outputs": [
        {
          "output_type": "stream",
          "name": "stdout",
          "text": [
            "1. roll_no:  1\n",
            "2. name:  venu\n"
          ]
        }
      ],
      "source": [
        "class Student:\n",
        "  def __init__(self,roll_no,name):\n",
        "    self.roll_no=roll_no\n",
        "    self.name=name\n",
        "  def info(self):\n",
        "    print(\"1. roll_no: \",self.roll_no)\n",
        "    print(\"2. name: \",self.name)\n",
        "s=Student(1,\"venu\")\n",
        "s.info()\n"
      ]
    },
    {
      "cell_type": "code",
      "source": [
        "class Student:\n",
        "  def __init__(self,roll_no,name):\n",
        "    print(\"constructor execution...\")\n",
        "    self.roll_no=roll_no\n",
        "    self.name=name\n",
        "  def info(self):\n",
        "    print(\"method execution....\")\n",
        "    print(\"1. roll_no: \",self.roll_no)\n",
        "    print(\"2. name: \",self.name)\n",
        "s=Student(1,\"venu\")\n",
        "s.info()"
      ],
      "metadata": {
        "colab": {
          "base_uri": "https://localhost:8080/"
        },
        "id": "_fqREe0bqtJV",
        "outputId": "460ca172-f834-45f5-81af-65eb0f9129cc"
      },
      "execution_count": null,
      "outputs": [
        {
          "output_type": "stream",
          "name": "stdout",
          "text": [
            "constructor execution...\n",
            "method execution....\n",
            "1. roll_no:  1\n",
            "2. name:  venu\n"
          ]
        }
      ]
    },
    {
      "cell_type": "code",
      "source": [
        "# type of variables\n",
        "# 1. instance varables\n",
        "# 2. static variables\n",
        "# 3. local variables"
      ],
      "metadata": {
        "id": "FmbAhBiNdGmx"
      },
      "execution_count": null,
      "outputs": []
    },
    {
      "cell_type": "code",
      "source": [
        "#instance variables / object variables - every object seprate copy of instance variables created\n",
        "# If the value of the vriable varied from object to object then such type of variables are called Intance...\n",
        "# declare - > inside constructor , inside method using self  , outside the calss by using object reference\n",
        "class Student:\n",
        "  def __init__(self,roll_no,name):\n",
        "    print(\"constructor execution...\")\n",
        "    self.roll_no=roll_no\n",
        "    self.name=name\n",
        "  def info(self):\n",
        "    print(\"method execution....\")\n",
        "    print(\"1. roll_no: \",self.roll_no)\n",
        "    print(\"2. name: \",self.name)\n",
        "\n",
        "s1=Student(1,\"venu\")      #instance variables\n",
        "s2=Student(2,\"kishore\")   #instance variables\n",
        "s.info()"
      ],
      "metadata": {
        "colab": {
          "base_uri": "https://localhost:8080/"
        },
        "id": "AFKB9cEZsNBe",
        "outputId": "8ef06f18-6c51-4f37-dc3e-c63d69007e12"
      },
      "execution_count": null,
      "outputs": [
        {
          "output_type": "stream",
          "name": "stdout",
          "text": [
            "constructor execution...\n",
            "constructor execution...\n",
            "method execution....\n",
            "1. roll_no:  1\n",
            "2. name:  venu\n"
          ]
        }
      ]
    },
    {
      "cell_type": "code",
      "source": [
        "# declare intace variables - > inside constructor , inside method using self  , outside the calss by using object reference\n",
        "\n",
        "class Student:\n",
        "  \n",
        "  def __init__(self,x,y):\n",
        "    self.x=x                  #instance variables\n",
        "    self.y=y\n",
        "  def info(self):\n",
        "    self.z='A-grade'              #instance variable\n",
        "\n",
        "\n",
        "\n",
        "s1=Student(1,\"venu\")      \n",
        "s1.m='good'\n",
        "s1.info()    # we should call this method to prnt the riable 'z'\n",
        "print(s1.__dict__)\n"
      ],
      "metadata": {
        "id": "zyt1-xpVXaSd",
        "outputId": "ca01eda2-013c-410d-f9ba-34add70b43d9",
        "colab": {
          "base_uri": "https://localhost:8080/"
        }
      },
      "execution_count": 18,
      "outputs": [
        {
          "output_type": "stream",
          "name": "stdout",
          "text": [
            "{'x': 1, 'y': 'venu', 'm': 'good', 'z': 'A-grade'}\n"
          ]
        }
      ]
    },
    {
      "cell_type": "code",
      "source": [
        "# statc variables / calss level variables\n",
        "# If the value of the variable is not varied from object to object \n",
        "# When we declare a variable inside a class but outside any method, it is called as class or static variable in python.\n",
        "# Class or static variable can be referred through a class but not directly through an instance.\n",
        "# declare - with in the class  & outside any method , inside the constructor, inside the method , inside the class method , insid the static method\n",
        "\n",
        "class Student:\n",
        "  cname='XYZ Engg College'\n",
        "  def __init__(self,roll_no,name):\n",
        "    self.roll_no=roll_no\n",
        "    self.name=name\n",
        "  \n",
        "  def info(self):\n",
        "    print(\"roll_no: \",self.roll_no)\n",
        "    print(\"name: \",self.name)\n",
        "    \n",
        "\n",
        "s1=Student(1,\"venu\")      #instance variables\n",
        "s2=Student(2,\"kishore\")   #instance variables\n",
        "\n",
        "print(\"***instance variables****\")\n",
        "s1.info()\n",
        "s2.info()\n",
        "s1.rannks='A'   # instance variable\n",
        "print(s1.__dict__) \n",
        "print(\"  \")\n",
        "print(\"***static variables***\")\n",
        "print(s1.cname)  #static variable\n",
        "print(s2.cname)  #static variable"
      ],
      "metadata": {
        "id": "_hqFA4JrRI_D",
        "outputId": "086fdc1a-e492-44ff-d7d8-bd35a82dd4aa",
        "colab": {
          "base_uri": "https://localhost:8080/"
        }
      },
      "execution_count": 12,
      "outputs": [
        {
          "output_type": "stream",
          "name": "stdout",
          "text": [
            "***instance variables****\n",
            "roll_no:  1\n",
            "name:  venu\n",
            "roll_no:  2\n",
            "name:  kishore\n",
            "{'roll_no': 1, 'name': 'venu', 'rannks': 'A'}\n",
            "  \n",
            "***static variables***\n",
            "XYZ Engg College\n",
            "XYZ Engg College\n"
          ]
        }
      ]
    },
    {
      "cell_type": "code",
      "source": [
        "# declare static vriables -\n",
        "#  with in the class  & outside any method , # inside the constructor, inside the method , inside the class method , insid the static method\n",
        "\n",
        "class Test:\n",
        "  a=10\n",
        "  def __init__(self):\n",
        "    Test.b=20\n",
        "    Test.c=30\n",
        "  def m1(self):\n",
        "    Test.d=40\n",
        "  @classmethod\n",
        "  def m2(cls):\n",
        "    cls.e=50\n",
        "    Test.f=40\n",
        "  @staticmethod\n",
        "  def m3():\n",
        "    Test.g=60\n",
        "\n",
        "t=Test()\n",
        "t.m1()\n",
        "t.m2()\n",
        "t.m3()\n",
        "print(Test.__dict__)\n"
      ],
      "metadata": {
        "id": "JIqQPuqPPMCD",
        "outputId": "7fbb2812-4e3b-44b9-ace3-bb838b73ea67",
        "colab": {
          "base_uri": "https://localhost:8080/"
        }
      },
      "execution_count": 24,
      "outputs": [
        {
          "output_type": "stream",
          "name": "stdout",
          "text": [
            "{'__module__': '__main__', 'a': 10, '__init__': <function Test.__init__ at 0x7f5754743b00>, 'm1': <function Test.m1 at 0x7f5754743a70>, 'm2': <classmethod object at 0x7f575c737a10>, 'm3': <staticmethod object at 0x7f575c7379d0>, '__dict__': <attribute '__dict__' of 'Test' objects>, '__weakref__': <attribute '__weakref__' of 'Test' objects>, '__doc__': None, 'b': 20, 'c': 30, 'd': 40, 'e': 50, 'f': 40, 'g': 60}\n"
          ]
        }
      ]
    },
    {
      "cell_type": "code",
      "source": [
        "# Local variable\n",
        "# decalre inside a method / constructor , no self keyword...\n",
        "# declare for tempoary purpose\n",
        "# once method executio completed, loal vriables will gon automaticaly\n",
        "\n",
        "class Test:\n",
        "  def __init__(self,x):\n",
        "    b=20      # local variabe\n",
        "    self.c=x  # instance variable\n",
        "    print(\"b: \", b)\n",
        "  def m1(self):\n",
        "    d=40      # local variables\n",
        "    print(\"d: \", d)\n",
        "t=Test(100)\n",
        "t.m1()\n",
        "print(t.__dict__)\n"
      ],
      "metadata": {
        "id": "Fm6OSi3kcLsz",
        "outputId": "932df47f-085c-4e9d-9f3a-9e3653c8b520",
        "colab": {
          "base_uri": "https://localhost:8080/"
        }
      },
      "execution_count": 30,
      "outputs": [
        {
          "output_type": "stream",
          "name": "stdout",
          "text": [
            "b:  20\n",
            "d:  40\n",
            "{'c': 100}\n"
          ]
        }
      ]
    },
    {
      "cell_type": "code",
      "source": [
        "# Type of Methods\n",
        "# 1. instance methods\n",
        "# 2. class method\n",
        "# 3. static methids\n"
      ],
      "metadata": {
        "id": "hWPyNHpmh2dj"
      },
      "execution_count": null,
      "outputs": []
    },
    {
      "cell_type": "code",
      "source": [
        "#instance mthod - inside instance method if we are using instace variables then such type of methods...\n",
        "# inside instance method we hve to pass self vriable...\n",
        "\n",
        "# classmethod - inside this if we use class variables/ static variables\n",
        "# we have to use @classmethod decorator\n",
        "\n",
        "# statc method - Also called general utlity methods\n",
        "# insid this methods we dont use any instance or class vsriables\n",
        "# hence we dont provide any self or cls argumets at the time of declartion\n",
        "# we have to use @staticmethod\n",
        "\n",
        "class Student:\n",
        "  cname='XYZ Engg College'\n",
        "  def __init__(self,roll_no,name):\n",
        "    self.roll_no=roll_no\n",
        "    self.name=name\n",
        "  \n",
        "  def info(self):                       # instance mthod    ( use - self / x/ y ...etc)\n",
        "    print(\"roll_no: \",self.roll_no)\n",
        "    print(\"name: \",self.name)\n",
        "\n",
        "  @classmethod\n",
        "  def getCollegeName(cls):                # cls - use x / y / cls....etc\n",
        "    print(\"college name: \", cls.cname)\n",
        "\n",
        "  @staticmethod\n",
        "  def findAvg(x,y):\n",
        "    print(\"Avrage: \", (x+y)/2)\n",
        "    \n",
        "\n",
        "s1=Student(1,\"venu\")      #instance variables\n",
        "s2=Student(2,\"kishore\")   #instance variables\n",
        "Student.getCollegeName()\n",
        "Student.findAvg(20,20)   # or s1.findAvg(20,20)\n",
        "s1.findAvg(10,20)"
      ],
      "metadata": {
        "id": "Q9Z0hjUjh_Hq",
        "outputId": "73bc132f-e080-4844-e183-a9ab113c3eac",
        "colab": {
          "base_uri": "https://localhost:8080/"
        }
      },
      "execution_count": 38,
      "outputs": [
        {
          "output_type": "stream",
          "name": "stdout",
          "text": [
            "college name:  XYZ Engg College\n",
            "Avrage:  20.0\n",
            "Avrage:  15.0\n"
          ]
        }
      ]
    }
  ]
}