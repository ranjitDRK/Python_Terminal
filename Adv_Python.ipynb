{
  "nbformat": 4,
  "nbformat_minor": 0,
  "metadata": {
    "colab": {
      "name": "Adv Python",
      "provenance": [],
      "authorship_tag": "ABX9TyN2s1+3rTDQlu74j10z4G1E"
    },
    "kernelspec": {
      "name": "python3",
      "display_name": "Python 3"
    },
    "language_info": {
      "name": "python"
    }
  },
  "cells": [
    {
      "cell_type": "code",
      "execution_count": null,
      "metadata": {
        "colab": {
          "base_uri": "https://localhost:8080/"
        },
        "id": "dSkkoQj9o9Tp",
        "outputId": "49eb14e9-1e1c-48c2-99a0-398fafa49f58"
      },
      "outputs": [
        {
          "output_type": "stream",
          "name": "stdout",
          "text": [
            "1. roll_no:  1\n",
            "2. name:  venu\n"
          ]
        }
      ],
      "source": [
        "class Student:\n",
        "  def __init__(self,roll_no,name):\n",
        "    self.roll_no=roll_no\n",
        "    self.name=name\n",
        "  def info(self):\n",
        "    print(\"1. roll_no: \",self.roll_no)\n",
        "    print(\"2. name: \",self.name)\n",
        "s=Student(1,\"venu\")\n",
        "s.info()\n"
      ]
    },
    {
      "cell_type": "code",
      "source": [
        "class Student:\n",
        "  def __init__(self,roll_no,name):\n",
        "    print(\"constructor execution...\")\n",
        "    self.roll_no=roll_no\n",
        "    self.name=name\n",
        "  def info(self):\n",
        "    print(\"method execution....\")\n",
        "    print(\"1. roll_no: \",self.roll_no)\n",
        "    print(\"2. name: \",self.name)\n",
        "s=Student(1,\"venu\")\n",
        "s.info()"
      ],
      "metadata": {
        "colab": {
          "base_uri": "https://localhost:8080/"
        },
        "id": "_fqREe0bqtJV",
        "outputId": "460ca172-f834-45f5-81af-65eb0f9129cc"
      },
      "execution_count": null,
      "outputs": [
        {
          "output_type": "stream",
          "name": "stdout",
          "text": [
            "constructor execution...\n",
            "method execution....\n",
            "1. roll_no:  1\n",
            "2. name:  venu\n"
          ]
        }
      ]
    },
    {
      "cell_type": "code",
      "source": [
        "#instance variables / object variables - every object seprate copy of instance variables created\n",
        "class Student:\n",
        "  def __init__(self,roll_no,name):\n",
        "    print(\"constructor execution...\")\n",
        "    self.roll_no=roll_no\n",
        "    self.name=name\n",
        "  def info(self):\n",
        "    print(\"method execution....\")\n",
        "    print(\"1. roll_no: \",self.roll_no)\n",
        "    print(\"2. name: \",self.name)\n",
        "\n",
        "s1=Student(1,\"venu\")      #instance variables\n",
        "s2=Student(2,\"kishore\")   #instance variables\n",
        "s.info()"
      ],
      "metadata": {
        "colab": {
          "base_uri": "https://localhost:8080/"
        },
        "id": "AFKB9cEZsNBe",
        "outputId": "8ef06f18-6c51-4f37-dc3e-c63d69007e12"
      },
      "execution_count": null,
      "outputs": [
        {
          "output_type": "stream",
          "name": "stdout",
          "text": [
            "constructor execution...\n",
            "constructor execution...\n",
            "method execution....\n",
            "1. roll_no:  1\n",
            "2. name:  venu\n"
          ]
        }
      ]
    },
    {
      "cell_type": "code",
      "source": [
        "# statc variables / calss level variables\n",
        "# When we declare a variable inside a class but outside any method, it is called as class or static variable in python.\n",
        "# Class or static variable can be referred through a class but not directly through an instance.\n",
        "\n",
        "class Student:\n",
        "  cname=\"cse-section A\"\n",
        "  def __init__(self,roll_no,name):\n",
        "    self.roll_no=roll_no\n",
        "    self.name=name\n",
        "  def info(self):\n",
        "    print(\"roll_no: \",self.roll_no)\n",
        "    print(\"name: \",self.name)\n",
        "\n",
        "s1=Student(1,\"venu\")      #instance variables\n",
        "s2=Student(2,\"kishore\")   #instance variables\n",
        "\n",
        "print(\"***instance variables****\")\n",
        "s1.info()\n",
        "s2.info()\n",
        "print(\"  \")\n",
        "print(\"***static variables***\")\n",
        "print(s1.cname)  #static variable\n",
        "print(s2.cname)  #static variable"
      ],
      "metadata": {
        "id": "_hqFA4JrRI_D",
        "outputId": "a254e866-8b61-4841-ca4e-5147f48fdefa",
        "colab": {
          "base_uri": "https://localhost:8080/"
        }
      },
      "execution_count": 10,
      "outputs": [
        {
          "output_type": "stream",
          "name": "stdout",
          "text": [
            "***instance variables****\n",
            "roll_no:  1\n",
            "name:  venu\n",
            "roll_no:  2\n",
            "name:  kishore\n",
            "  \n",
            "***static variables***\n",
            "cse-section A\n",
            "cse-section A\n"
          ]
        }
      ]
    }
  ]
}