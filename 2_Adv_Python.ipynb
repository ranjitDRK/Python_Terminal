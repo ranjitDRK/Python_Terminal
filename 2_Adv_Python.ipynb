{
  "nbformat": 4,
  "nbformat_minor": 0,
  "metadata": {
    "colab": {
      "name": "2_Adv_Python",
      "provenance": [],
      "authorship_tag": "ABX9TyP18jCMZe/Z7JGWMkak8nKF"
    },
    "kernelspec": {
      "name": "python3",
      "display_name": "Python 3"
    },
    "language_info": {
      "name": "python"
    }
  },
  "cells": [
    {
      "cell_type": "code",
      "execution_count": null,
      "metadata": {
        "id": "GEg3V2y7mKaA"
      },
      "outputs": [],
      "source": [
        "# we can use members of one class insid another class by following ways: \n",
        "# 1. By Compositon ( Has-A Relationship)\n",
        "# 2. By Inheritance ( IS-A Relationship)\n"
      ]
    },
    {
      "cell_type": "code",
      "source": [
        "# By Compositon ( Has-A Relationship)\n",
        "# we can accesss th memers of on class inside another class \n",
        "# The main adv: code Reusablity\n",
        "\n",
        "class A:\n",
        "  a=10\n",
        "  def __init__(self):\n",
        "    self.b=20\n",
        "    self.c=30\n",
        "  def m1(self):\n",
        "    print(\"welcome\")\n",
        "class B:\n",
        "  def __init__(self):\n",
        "    self.x=A()\n",
        "  def m2(self):\n",
        "    print(self.x.a)\n",
        "    print(self.x.b)\n",
        "    print(self.x.c)\n",
        "    self.x.m1()\n",
        "\n",
        "obj=B()\n",
        "obj.m2()"
      ],
      "metadata": {
        "colab": {
          "base_uri": "https://localhost:8080/"
        },
        "id": "zoLTy6dp36IF",
        "outputId": "ec2c8852-8358-47e4-9fe6-4c5c81bf331f"
      },
      "execution_count": 2,
      "outputs": [
        {
          "output_type": "stream",
          "name": "stdout",
          "text": [
            "10\n",
            "20\n",
            "30\n",
            "welcome\n"
          ]
        }
      ]
    },
    {
      "cell_type": "code",
      "source": [
        "# By Inheritance ( IS-A Relationship)\n",
        "# variables , methods , constructor available in parent class by default avialable in child class\n",
        "# main Adv: code re usablity and extend the functionality"
      ],
      "metadata": {
        "id": "0r1hnuQc38kK"
      },
      "execution_count": null,
      "outputs": []
    },
    {
      "cell_type": "code",
      "source": [
        "# By Inheritance ( IS-A Relationship)\n",
        "\n",
        "class P:\n",
        "  a=10\n",
        "  def __init__(self):\n",
        "    self.b=20\n",
        "  def m1(self):\n",
        "    print(\"welcme - parent instance method\")\n",
        "\n",
        "  @classmethod\n",
        "  def m2(cls):\n",
        "    print(\"welcome - parent class method\")\n",
        "\n",
        "  @staticmethod\n",
        "  def m3():\n",
        "    print(\"welcome - parent static method\")\n",
        "\n",
        "class C(P):\n",
        "  pass\n",
        "\n",
        "obj=C()\n",
        "print(obj.a)\n",
        "print(obj.b)\n",
        "obj.m1()\n",
        "obj.m2()\n",
        "obj.m3()\n",
        "\n"
      ],
      "metadata": {
        "colab": {
          "base_uri": "https://localhost:8080/"
        },
        "id": "0sIgdftq5c4p",
        "outputId": "b14f99e3-ac05-45cf-b9db-e44a5a702e51"
      },
      "execution_count": 3,
      "outputs": [
        {
          "output_type": "stream",
          "name": "stdout",
          "text": [
            "10\n",
            "20\n",
            "welcme - parent instance method\n",
            "welcome - parent class method\n",
            "welcome - parent static method\n"
          ]
        }
      ]
    },
    {
      "cell_type": "code",
      "source": [
        "# Types of inheritance\n",
        "# 1. single inheritance\n",
        "# 2. Multilevel inheritance\n",
        "# 3. Heirchial inheritance\n",
        "# 4. Multiple inheritance\n"
      ],
      "metadata": {
        "id": "iNksM2OC6hL0"
      },
      "execution_count": null,
      "outputs": []
    },
    {
      "cell_type": "code",
      "source": [
        "# single inheritance - Single inheritance can be defined as a derived class to inherit the basic methods (data members and variables) \n",
        "# and behavior from a superclass\n",
        "\n",
        "class P:\n",
        "  def m1(self):\n",
        "    print(\"Parent method\")\n",
        "class C(P):\n",
        "  def m2(self):\n",
        "    print(\"child method\")\n",
        "c=C()\n",
        "c.m1()\n",
        "c.m2()"
      ],
      "metadata": {
        "colab": {
          "base_uri": "https://localhost:8080/"
        },
        "id": "Q4DKCH4N8ZSS",
        "outputId": "1a8cfa35-dc90-47a4-ca25-1cb3d61ba89a"
      },
      "execution_count": 4,
      "outputs": [
        {
          "output_type": "stream",
          "name": "stdout",
          "text": [
            "Parent method\n",
            "child method\n"
          ]
        }
      ]
    },
    {
      "cell_type": "code",
      "source": [
        "# Multilevel inheritance - When there is a chain of inheritance, it is known as multilevel inheritance ( one after another)\n",
        "\n",
        "class P:\n",
        "  def m1(self):\n",
        "    print(\"Parent method\")\n",
        "class C(P):\n",
        "  def m2(self):\n",
        "    print(\"child method\")\n",
        "class CC(C):\n",
        "    def m3(self):\n",
        "      print(\"sub child method\")\n",
        "\n",
        "c=CC()\n",
        "c.m1()\n",
        "c.m2()\n",
        "c.m3()"
      ],
      "metadata": {
        "colab": {
          "base_uri": "https://localhost:8080/"
        },
        "id": "XGwMhomf9ZwY",
        "outputId": "169c9e58-fefd-4f19-a1c1-3822f5b089e8"
      },
      "execution_count": 5,
      "outputs": [
        {
          "output_type": "stream",
          "name": "stdout",
          "text": [
            "Parent method\n",
            "child method\n",
            "sub child method\n"
          ]
        }
      ]
    },
    {
      "cell_type": "code",
      "source": [
        "# Heirchial inheritance- When we derive or inherit more than one child class from one(same) parent class. \n",
        "# Then this type of inheritance is called hierarchical inheritance.\n",
        "\n",
        "class P:\n",
        "  def m1(self):\n",
        "    print(\"Parent method\")\n",
        "class C1(P):\n",
        "  def m2(self):\n",
        "    print(\"child 1 method\")\n",
        "class C2(P):\n",
        "    def m3(self):\n",
        "      print(\"child 2 method\")\n",
        "\n",
        "c=C2()\n",
        "c.m1()\n",
        "c.m3()\n"
      ],
      "metadata": {
        "colab": {
          "base_uri": "https://localhost:8080/"
        },
        "id": "Lhvao8CF98T9",
        "outputId": "59eb8c02-dd6a-44cf-d327-e77240487d61"
      },
      "execution_count": 7,
      "outputs": [
        {
          "output_type": "stream",
          "name": "stdout",
          "text": [
            "Parent method\n",
            "child 2 method\n"
          ]
        }
      ]
    },
    {
      "cell_type": "code",
      "source": [
        "# # Multiple Inheritance: When child class is derived or inherited from more than one parent class. This is called multiple inheritance. \n",
        "# In multiple inheritance, we have two parent classes/base classes and one child class that inherits both parent classes properties.\n",
        "\n",
        "class P1:\n",
        "  def m1(self):\n",
        "    print(\"Parent 1 method\")\n",
        "class P2:\n",
        "  def m2(self):\n",
        "    print(\"Parent 2 method\")\n",
        "class C(P1,P2):\n",
        "    def m3(self):\n",
        "      print(\"child method\")\n",
        "\n",
        "c=C()\n",
        "c.m1()\n",
        "c.m2()\n",
        "c.m3()\n"
      ],
      "metadata": {
        "colab": {
          "base_uri": "https://localhost:8080/"
        },
        "id": "iQ1EW0-jGn20",
        "outputId": "02ec4ce9-07ca-46ce-8c1f-414a9fe1381c"
      },
      "execution_count": 9,
      "outputs": [
        {
          "output_type": "stream",
          "name": "stdout",
          "text": [
            "Parent 1 method\n",
            "Parent 2 method\n",
            "child method\n"
          ]
        }
      ]
    },
    {
      "cell_type": "code",
      "source": [
        "# super() Method\n",
        "# The Python super() function returns objects represented in the parent’s class...\n",
        "\n",
        "class Person:\n",
        "  def __init__(self,name,age):\n",
        "    self.name=name\n",
        "    self.age=age\n",
        "\n",
        "  def display(self):\n",
        "    print(self.name)\n",
        "    print(self.age)\n",
        "class Student(Person):\n",
        "  def __init__(self,name,age,rollno,marks):\n",
        "    super().__init__(name,age)\n",
        "    self.rollno=rollno\n",
        "    self.marks=marks\n",
        "\n",
        "  def display(self):\n",
        "    super().display\n",
        "    print(self.rollno)\n",
        "    print(self.marks)\n",
        "\n",
        "s1=Student('kumar',22,101,90)\n",
        "s1.display()"
      ],
      "metadata": {
        "colab": {
          "base_uri": "https://localhost:8080/"
        },
        "id": "dn5uVVCcKiT8",
        "outputId": "a9f4236b-032b-454d-8a8b-61c77e92312c"
      },
      "execution_count": 13,
      "outputs": [
        {
          "output_type": "stream",
          "name": "stdout",
          "text": [
            "101\n",
            "90\n"
          ]
        }
      ]
    },
    {
      "cell_type": "code",
      "source": [
        "class Emp():\n",
        "    def __init__(self, id, name, Add):\n",
        "        self.id = id\n",
        "        self.name = name\n",
        "        self.Add = Add\n",
        " \n",
        "# Class freelancer inherits EMP\n",
        "class Freelance(Emp):\n",
        "    def __init__(self, id, name, Add, Emails):\n",
        "        super().__init__(id, name, Add)\n",
        "        self.Emails = Emails\n",
        " \n",
        "Emp_1 = Freelance(103, \"Suraj kr gupta\", \"Noida\" , \"KKK@gmails\")\n",
        "print('The ID is:', Emp_1.id)\n",
        "print('The Name is:', Emp_1.name)\n",
        "print('The Address is:', Emp_1.Add)\n",
        "print('The Emails is:', Emp_1.Emails)"
      ],
      "metadata": {
        "colab": {
          "base_uri": "https://localhost:8080/"
        },
        "id": "Roo9SeW1NQ6L",
        "outputId": "5ddf621e-4edb-418e-da91-7c24317fdf15"
      },
      "execution_count": 14,
      "outputs": [
        {
          "output_type": "stream",
          "name": "stdout",
          "text": [
            "The ID is: 103\n",
            "The Name is: Suraj kr gupta\n",
            "The Address is: Noida\n",
            "The Emails is: KKK@gmails\n"
          ]
        }
      ]
    }
  ]
}